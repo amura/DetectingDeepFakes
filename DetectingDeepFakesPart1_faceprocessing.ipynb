{
  "nbformat": 4,
  "nbformat_minor": 0,
  "metadata": {
    "colab": {
      "name": "DetectingDeepFakesPart1_faceprocessing.ipynb",
      "provenance": [],
      "collapsed_sections": [],
      "machine_shape": "hm",
      "include_colab_link": true
    },
    "kernelspec": {
      "name": "python3",
      "display_name": "Python 3.8.5 64-bit"
    },
    "language_info": {
      "name": "python",
      "version": "3.8.5"
    },
    "accelerator": "GPU",
    "interpreter": {
      "hash": "31f2aee4e71d21fbe5cf8b01ff0e069b9275f58929596ceb00d14d90e3e16cd6"
    }
  },
  "cells": [
    {
      "cell_type": "markdown",
      "metadata": {
        "id": "view-in-github",
        "colab_type": "text"
      },
      "source": []
    },
    {
      "cell_type": "markdown",
      "metadata": {
        "id": "5oCEsLH4hICw"
      },
      "source": [
        "# Exploring dataset"
      ]
    },
    {
      "cell_type": "code",
      "metadata": {
        "colab": {
          "base_uri": "https://localhost:8080/"
        },
        "id": "9Qho01dsilsj",
        "outputId": "4fab8d64-2e0f-4ac3-8ceb-69b5906527e5"
      },
      "source": [
        "%tensorflow_version 2.x\n",
        "import tensorflow as tf\n",
        "device_name = tf.test.gpu_device_name()\n",
        "if device_name != '/device:GPU:0':\n",
        "  raise SystemError('GPU device not found')\n",
        "print('Found GPU at: {}'.format(device_name))"
      ],
      "execution_count": null,
      "outputs": []
    },
    {
      "cell_type": "code",
      "metadata": {
        "id": "xLbrVbbmiqBf"
      },
      "source": [
        "import pandas as pd\n",
        "from io import BytesIO\n",
        "import numpy as np\n",
        "import os\n",
        "import shutil\n",
        "import pprint\n",
        "import json\n",
        "from PIL import Image\n",
        "from PIL.ImageStat import Stat\n",
        "import matplotlib.pyplot as plt\n",
        "import matplotlib.image as mpimg\n",
        "import tensorflow as tf\n",
        "import pathlib\n",
        "import cv2"
      ],
      "execution_count": 3,
      "outputs": [
        {
          "output_type": "error",
          "ename": "ModuleNotFoundError",
          "evalue": "No module named 'pandas'",
          "traceback": [
            "\u001b[0;31m---------------------------------------------------------------------------\u001b[0m",
            "\u001b[0;31mModuleNotFoundError\u001b[0m                       Traceback (most recent call last)",
            "\u001b[0;32m<ipython-input-3-59a1933066b9>\u001b[0m in \u001b[0;36m<module>\u001b[0;34m\u001b[0m\n\u001b[0;32m----> 1\u001b[0;31m \u001b[0;32mimport\u001b[0m \u001b[0mpandas\u001b[0m \u001b[0;32mas\u001b[0m \u001b[0mpd\u001b[0m\u001b[0;34m\u001b[0m\u001b[0;34m\u001b[0m\u001b[0m\n\u001b[0m\u001b[1;32m      2\u001b[0m \u001b[0;32mfrom\u001b[0m \u001b[0mio\u001b[0m \u001b[0;32mimport\u001b[0m \u001b[0mBytesIO\u001b[0m\u001b[0;34m\u001b[0m\u001b[0;34m\u001b[0m\u001b[0m\n\u001b[1;32m      3\u001b[0m \u001b[0;32mimport\u001b[0m \u001b[0mnumpy\u001b[0m \u001b[0;32mas\u001b[0m \u001b[0mnp\u001b[0m\u001b[0;34m\u001b[0m\u001b[0;34m\u001b[0m\u001b[0m\n\u001b[1;32m      4\u001b[0m \u001b[0;32mimport\u001b[0m \u001b[0mos\u001b[0m\u001b[0;34m\u001b[0m\u001b[0;34m\u001b[0m\u001b[0m\n\u001b[1;32m      5\u001b[0m \u001b[0;32mimport\u001b[0m \u001b[0mshutil\u001b[0m\u001b[0;34m\u001b[0m\u001b[0;34m\u001b[0m\u001b[0m\n",
            "\u001b[0;31mModuleNotFoundError\u001b[0m: No module named 'pandas'"
          ]
        }
      ]
    },
    {
      "cell_type": "code",
      "metadata": {
        "colab": {
          "base_uri": "https://localhost:8080/"
        },
        "id": "YEJZHYRsrN8o",
        "outputId": "7c688228-3ebe-4659-b947-6383ecca19e6"
      },
      "source": [
        "# mmove images to folder for use later\n",
        "from google.colab import drive\n",
        "drive.mount('/content/gdrive') "
      ],
      "execution_count": null,
      "outputs": []
    },
    {
      "cell_type": "code",
      "metadata": {
        "id": "ryZFQLEirLzH",
        "colab": {
          "base_uri": "https://localhost:8080/"
        },
        "outputId": "65cf1820-d6ca-4e74-abb8-bf02f6d13b4f"
      },
      "source": [
        "%cd /content/gdrive/MyDrive/deepfakes\n"
      ],
      "execution_count": null,
      "outputs": []
    },
    {
      "cell_type": "markdown",
      "metadata": {
        "id": "jU-Xv6n82OZZ"
      },
      "source": [
        "### face detection"
      ]
    },
    {
      "cell_type": "code",
      "metadata": {
        "colab": {
          "base_uri": "https://localhost:8080/"
        },
        "id": "xMQrKvfyg7Vh",
        "outputId": "be4dcc16-9508-48b1-a3cc-b9387bc26206"
      },
      "source": [
        "# install MTCNN\n",
        "!pip install mtcnn\n"
      ],
      "execution_count": null,
      "outputs": []
    },
    {
      "cell_type": "markdown",
      "metadata": {
        "id": "iJe0hUZZX2EP"
      },
      "source": [
        "Function for extracting the coordinates for the top left bounding box, width and height, and location of eyes"
      ]
    },
    {
      "cell_type": "code",
      "metadata": {
        "id": "7uISL53MkQQG"
      },
      "source": [
        "from mtcnn import MTCNN\n",
        "import cv2\n",
        "\n",
        "class DeepFakesDetector:\n",
        "  def __init__(self):\n",
        "\n",
        "  # this extracts the bounding box as well as the eye location\n",
        "  @staticmethod\n",
        "  def extractFaceFromImage( filePath):\n",
        "    #detect face\n",
        "    img = cv2.cvtColor(cv2.imread(filePath), cv2.COLOR_BGR2RGB)\n",
        "    detector = MTCNN()\n",
        "    result = detector.detect_faces(img)\n",
        "\n",
        "\n",
        "    # assumes only single person in the picture so index is 0\n",
        "    return  result[0]['box'],  result[0]['keypoints']['left_eye'],  result[0]['keypoints']['right_eye'], img\n",
        "  \n",
        "  # \n",
        "  def crop_and_align(desired_size=256, desired_eye_location=(0.35,0.35), imageFile):\n",
        "\n",
        "\n",
        "\n",
        "  # This gets the angle between the eyes\n",
        "  def eyes_angle():\n",
        "\n",
        "\n"
      ],
      "execution_count": null,
      "outputs": []
    },
    {
      "cell_type": "code",
      "metadata": {
        "colab": {
          "base_uri": "https://localhost:8080/"
        },
        "id": "Fr6YrdA0fpJj",
        "outputId": "d69a4bc3-640e-423f-b6be-1a460defc305"
      },
      "source": [
        "from google.colab.patches import cv2_imshow\n",
        "\n",
        "bb, left, right, img = extractFaceFromImage('./deepfake_sa1_output/00001.jpg')"
      ],
      "execution_count": null,
      "outputs": []
    },
    {
      "cell_type": "code",
      "metadata": {
        "colab": {
          "base_uri": "https://localhost:8080/",
          "height": 401
        },
        "id": "gjPxU-Hke6eN",
        "outputId": "d0452280-2188-49e0-d295-9093e84a1ea7"
      },
      "source": [
        "\n",
        "\n",
        "cv2.rectangle(img,\n",
        "              (bb[0], bb[1]),\n",
        "              (bb[0]+bb[2], bb[1] + bb[3]),\n",
        "              (0,155,255),\n",
        "              2)\n",
        "\n",
        "cv2.circle(img,(left), 2, (0,0,255), 2)\n",
        "cv2.circle(img,(right), 2, (0,0,255), 2)\n",
        "\n",
        "cv2_imshow(cv2.cvtColor(img, cv2.COLOR_RGB2BGR))"
      ],
      "execution_count": null,
      "outputs": []
    }
  ]
}