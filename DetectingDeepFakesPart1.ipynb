{
  "nbformat": 4,
  "nbformat_minor": 0,
  "metadata": {
    "colab": {
      "name": "DetectingDeepFakesPart1.ipynb",
      "provenance": [],
      "collapsed_sections": [],
      "machine_shape": "hm"
    },
    "kernelspec": {
      "name": "python3",
      "display_name": "Python 3"
    },
    "language_info": {
      "name": "python"
    },
    "accelerator": "GPU"
  },
  "cells": [
    {
      "cell_type": "markdown",
      "metadata": {
        "id": "5oCEsLH4hICw"
      },
      "source": [
        "# Exploring dataset"
      ]
    },
    {
      "cell_type": "code",
      "metadata": {
        "colab": {
          "base_uri": "https://localhost:8080/"
        },
        "id": "9Qho01dsilsj",
        "outputId": "dbc60ffe-afb1-4598-82c6-dfb22f48d306"
      },
      "source": [
        "%tensorflow_version 2.x\n",
        "import tensorflow as tf\n",
        "device_name = tf.test.gpu_device_name()\n",
        "if device_name != '/device:GPU:0':\n",
        "  raise SystemError('GPU device not found')\n",
        "print('Found GPU at: {}'.format(device_name))"
      ],
      "execution_count": null,
      "outputs": [
        {
          "output_type": "stream",
          "text": [
            "Found GPU at: /device:GPU:0\n"
          ],
          "name": "stdout"
        }
      ]
    },
    {
      "cell_type": "code",
      "metadata": {
        "id": "xLbrVbbmiqBf"
      },
      "source": [
        "import pandas as pd\n",
        "from io import BytesIO\n",
        "import numpy as np\n",
        "import os\n",
        "import shutil\n",
        "import pprint\n",
        "import json\n",
        "from PIL import Image\n",
        "from PIL.ImageStat import Stat\n",
        "import matplotlib.pyplot as plt\n",
        "import matplotlib.image as mpimg\n",
        "import tensorflow as tf\n",
        "import pathlib\n",
        "import cv2"
      ],
      "execution_count": null,
      "outputs": []
    },
    {
      "cell_type": "code",
      "metadata": {
        "id": "ryZFQLEirLzH"
      },
      "source": [
        "# paths to target folders\n",
        "DEEPFAKES='/content/deepfakes'\n",
        "VidTIMIT='/content/VidTIMIT'"
      ],
      "execution_count": null,
      "outputs": []
    },
    {
      "cell_type": "code",
      "metadata": {
        "id": "-UEMk0EygmmK"
      },
      "source": [
        "#create folder\n",
        "os.makedirs(DEEPFAKES)\n",
        "#download dataset\n",
        "tf.keras.utils.get_file(\"deepfake.tar.gz\",\"https://lp-prod-resources.s3.amazonaws.com/other/detectingdeepfakes/DeepfakeTIMIT.tar.gz\", extract=False)\n",
        "#extract \n",
        "!tar -xf /root/.keras/datasets/deepfake.tar.gz -C /content/deepfakes/\n"
      ],
      "execution_count": null,
      "outputs": []
    },
    {
      "cell_type": "code",
      "metadata": {
        "id": "Tbs81z2Lma_r"
      },
      "source": [
        "# download original videos\n",
        "os.makedirs(VidTIMIT)\n",
        "tf.keras.utils.get_file(\"VidTIMIT.zip\", \"https://lp-prod-resources.s3.amazonaws.com/other/detectingdeepfakes/VidTIMIT.zip\", extract=True)\n",
        "\n",
        "!mv /root/.keras/datasets/VidTIMIT/* VidTIMIT"
      ],
      "execution_count": null,
      "outputs": []
    },
    {
      "cell_type": "code",
      "metadata": {
        "id": "T6qeUsjLj-U8"
      },
      "source": [
        "# Run below to view some of the downlaoded videos\n",
        "\n",
        "# import cv2\n",
        "# def play_videoFile(filePath,mirror=False):\n",
        "#     cap = cv2.VideoCapture(filePath)\n",
        "#     cv2.namedWindow('Video Life2Coding',cv2.WINDOW_AUTOSIZE)\n",
        "#     while True:\n",
        "#         ret_val, frame = cap.read()\n",
        "#         if mirror:\n",
        "#             frame = cv2.flip(frame, 1)\n",
        "#         cv2.imshow('Video Life2Coding', frame)\n",
        "#         if cv2.waitKey(1) == 27:\n",
        "#             break  # esc to quit\n",
        "#     cv2.destroyAllWindows()\n"
      ],
      "execution_count": null,
      "outputs": []
    },
    {
      "cell_type": "code",
      "metadata": {
        "id": "3dQnlUQllhce"
      },
      "source": [
        "# %cd /content/deepfakes/DeepfakeTIMIT/\n",
        "# play_videoFile(\"./fadg0-fram1-roi93.mov\")"
      ],
      "execution_count": null,
      "outputs": []
    }
  ]
}